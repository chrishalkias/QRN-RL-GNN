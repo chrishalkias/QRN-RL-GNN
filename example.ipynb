{
 "cells": [
  {
   "cell_type": "code",
   "execution_count": 11,
   "id": "3d5d4fe8",
   "metadata": {},
   "outputs": [],
   "source": [
    "from src.repeaters import RepeaterNetwork\n",
    "from src.models import GNN\n",
    "net = RepeaterNetwork()\n",
    "net.matrix\n",
    "from src.cnn_environment import Environment\n",
    "env = Environment(model=GNN())"
   ]
  },
  {
   "cell_type": "code",
   "execution_count": null,
   "id": "a9ad5bb4",
   "metadata": {},
   "outputs": [],
   "source": []
  }
 ],
 "metadata": {
  "kernelspec": {
   "display_name": ".venv",
   "language": "python",
   "name": "python3"
  },
  "language_info": {
   "codemirror_mode": {
    "name": "ipython",
    "version": 3
   },
   "file_extension": ".py",
   "mimetype": "text/x-python",
   "name": "python",
   "nbconvert_exporter": "python",
   "pygments_lexer": "ipython3",
   "version": "3.13.2"
  }
 },
 "nbformat": 4,
 "nbformat_minor": 5
}
