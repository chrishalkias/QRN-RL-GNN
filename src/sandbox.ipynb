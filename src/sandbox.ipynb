{
 "cells": [
  {
   "cell_type": "markdown",
   "id": "9b729555",
   "metadata": {},
   "source": [
    "# Sandbox for QRN-RL-GNN"
   ]
  },
  {
   "cell_type": "markdown",
   "id": "79009a53",
   "metadata": {},
   "source": [
    "This is an IPython notebook to be used for the following:\n",
    "\n",
    "1) As a sandbox to test snippets of code during development\n",
    "\n",
    "2) For demonstration purposes of functionalities"
   ]
  },
  {
   "cell_type": "markdown",
   "id": "5246cc87",
   "metadata": {},
   "source": [
    "### Imports"
   ]
  },
  {
   "cell_type": "code",
   "execution_count": 64,
   "id": "a432bbfa",
   "metadata": {},
   "outputs": [],
   "source": [
    "import numpy as np\n",
    "import torch \n",
    "from tqdm import tqdm\n",
    "import matplotlib.pyplot as plt\n",
    "\n",
    "from repeaters import RepeaterNetwork\n",
    "from models import CNN, GNN\n",
    "from gnn_environment import Environment"
   ]
  },
  {
   "cell_type": "markdown",
   "id": "ffdb98ac",
   "metadata": {},
   "source": [
    "## Testing"
   ]
  },
  {
   "cell_type": "code",
   "execution_count": null,
   "id": "c641ece2",
   "metadata": {},
   "outputs": [],
   "source": [
    "def modified_reward(net):\n",
    "    \"\"\"\n",
    "    Add some small reward for established links. Make it as non-exploitable as possible\n",
    "    so that large bonuses are only given for physically desired states\n",
    "    \"\"\"\n",
    "    bonus_reward = 0 # some function f(d, e; n)\n",
    "    for (i,j), (adjecency, entanglement) in net.matrix.items():\n",
    "        distance = j-i #chain only\n",
    "        bonus_reward +=  entanglement*distance**2/net.n**2 if entanglement else 0\n",
    "    return bonus_reward"
   ]
  },
  {
   "cell_type": "code",
   "execution_count": null,
   "id": "51fb272a",
   "metadata": {},
   "outputs": [
    {
     "name": "stdout",
     "output_type": "stream",
     "text": [
      "Reward of fully entangled   : 0.047\n",
      "Reward of almost end-to-end : 0.640\n"
     ]
    }
   ],
   "source": [
    "n=20\n",
    "net = RepeaterNetwork(n=n)\n",
    "for n in range(n-1):\n",
    "    net.entangle(edge=(n, n+1))\n",
    "reward = modified_reward(net)\n",
    "print(f'Reward of fully entangled   : {reward:.3f}')\n",
    "net.resetState()\n",
    "net.setLink(edge=(1, n-1), linkType=1, newValue=1)\n",
    "reward = modified_reward(net)\n",
    "print(f'Reward of almost end-to-end : {reward:.3f}')"
   ]
  },
  {
   "cell_type": "code",
   "execution_count": 3,
   "id": "b8a22ded",
   "metadata": {},
   "outputs": [],
   "source": [
    "model = GNN(node_dim        = 1, # always\n",
    "            embedding_dim   = 16,\n",
    "            num_layers      = 3,\n",
    "            num_heads       = 4,\n",
    "            hidden_dim      = 64, \n",
    "            unembedding_dim = 16, \n",
    "            output_dim      = 4, # always\n",
    "            ) "
   ]
  },
  {
   "cell_type": "code",
   "execution_count": 3,
   "id": "19cb8e87",
   "metadata": {},
   "outputs": [
    {
     "ename": "NameError",
     "evalue": "name 'plt' is not defined",
     "output_type": "error",
     "traceback": [
      "\u001b[31m---------------------------------------------------------------------------\u001b[39m",
      "\u001b[31mNameError\u001b[39m                                 Traceback (most recent call last)",
      "\u001b[36mCell\u001b[39m\u001b[36m \u001b[39m\u001b[32mIn[3]\u001b[39m\u001b[32m, line 1\u001b[39m\n\u001b[32m----> \u001b[39m\u001b[32m1\u001b[39m \u001b[43mplt\u001b[49m.rcParams.update({\n\u001b[32m      2\u001b[39m     \u001b[33m\"\u001b[39m\u001b[33mtext.usetex\u001b[39m\u001b[33m\"\u001b[39m: \u001b[38;5;28;01mTrue\u001b[39;00m,\n\u001b[32m      3\u001b[39m     \u001b[33m\"\u001b[39m\u001b[33mfont.family\u001b[39m\u001b[33m\"\u001b[39m: \u001b[33m\"\u001b[39m\u001b[33mserif\u001b[39m\u001b[33m\"\u001b[39m})\n",
      "\u001b[31mNameError\u001b[39m: name 'plt' is not defined"
     ]
    }
   ],
   "source": [
    "plt.rcParams.update({\n",
    "    \"text.usetex\": True,\n",
    "    \"font.family\": \"serif\"})"
   ]
  },
  {
   "cell_type": "markdown",
   "id": "08419f27",
   "metadata": {},
   "source": [
    "## Basic usage"
   ]
  },
  {
   "cell_type": "markdown",
   "id": "cf5492dc",
   "metadata": {},
   "source": [
    "### Basic usage 1: The Quantum repeaters"
   ]
  },
  {
   "cell_type": "markdown",
   "id": "02b01f55",
   "metadata": {},
   "source": [
    "First lets initialize the network this is done with the `RepeaterNetwork` class. It is parametrized by the number of nodes $n$, the system parameters $\\tau, p_e, p_s$ and some other stuff"
   ]
  },
  {
   "cell_type": "code",
   "execution_count": null,
   "id": "17177a4b",
   "metadata": {},
   "outputs": [],
   "source": [
    "net = RepeaterNetwork(\n",
    "                    n=4,\n",
    "                    p_entangle = 1,\n",
    "                    p_swap = 1,\n",
    "                    tau = 1_000,\n",
    "                    kappa = 1,\n",
    "                    directed = False,\n",
    "                    geometry = 'chain',\n",
    "                    )"
   ]
  },
  {
   "cell_type": "markdown",
   "id": "6fdf0ca6",
   "metadata": {},
   "source": [
    "The state can be seen anytime with ```self.matrix``` (dictionary) or used with ```pyG``` with ```self.tensorState()``` (pyG.data)"
   ]
  }
 ],
 "metadata": {
  "kernelspec": {
   "display_name": ".venv",
   "language": "python",
   "name": "python3"
  },
  "language_info": {
   "codemirror_mode": {
    "name": "ipython",
    "version": 3
   },
   "file_extension": ".py",
   "mimetype": "text/x-python",
   "name": "python",
   "nbconvert_exporter": "python",
   "pygments_lexer": "ipython3",
   "version": "3.13.2"
  }
 },
 "nbformat": 4,
 "nbformat_minor": 5
}
