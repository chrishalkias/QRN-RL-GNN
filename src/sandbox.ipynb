{
 "cells": [
  {
   "cell_type": "markdown",
   "id": "9b729555",
   "metadata": {},
   "source": [
    "# Sandbox for QRN-RL-GNN"
   ]
  },
  {
   "cell_type": "markdown",
   "id": "79009a53",
   "metadata": {},
   "source": [
    "This is an IPython notebook to be used for the following:\n",
    "\n",
    "1) As a sandbox to test snippets of code during development\n",
    "\n",
    "2) For demonstration purposes of functionalities"
   ]
  },
  {
   "cell_type": "markdown",
   "id": "5246cc87",
   "metadata": {},
   "source": [
    "### Imports"
   ]
  },
  {
   "cell_type": "code",
   "execution_count": 73,
   "id": "a432bbfa",
   "metadata": {},
   "outputs": [],
   "source": [
    "import numpy as np\n",
    "import torch \n",
    "from tqdm import tqdm\n",
    "import matplotlib.pyplot as plt\n",
    "from repeaters import RepeaterNetwork\n",
    "from models import CNN, GNN\n",
    "from gnn_env import Environment"
   ]
  },
  {
   "cell_type": "markdown",
   "id": "ffdb98ac",
   "metadata": {},
   "source": [
    "## Testing"
   ]
  },
  {
   "cell_type": "markdown",
   "id": "378ebaa3",
   "metadata": {},
   "source": [
    "## New code with cutoffs please"
   ]
  },
  {
   "cell_type": "code",
   "execution_count": 74,
   "id": "b8a22ded",
   "metadata": {},
   "outputs": [],
   "source": [
    "model = GNN(node_dim        = 1, # always\n",
    "            embedding_dim   = 16,\n",
    "            num_layers      = 3,\n",
    "            num_heads       = 4,\n",
    "            hidden_dim      = 64, \n",
    "            unembedding_dim = 16, \n",
    "            output_dim      = 4, # always\n",
    "            ) "
   ]
  },
  {
   "cell_type": "code",
   "execution_count": 75,
   "id": "a2e7aa6d",
   "metadata": {},
   "outputs": [],
   "source": [
    "env = Environment(model)\n",
    "# env.preview()"
   ]
  },
  {
   "cell_type": "code",
   "execution_count": 76,
   "id": "b6690057",
   "metadata": {},
   "outputs": [
    {
     "data": {
      "image/png": "[encoded data removed]",
      "text/plain": [
       "<Figure size 640x480 with 1 Axes>"
      ]
     },
     "metadata": {},
     "output_type": "display_data"
    }
   ],
   "source": [
    "\"\"\"Use inset_zoom later to better probe regions of interest during training\"\"\"\n",
    "from matplotlib import cbook\n",
    "fig, ax = plt.subplots()\n",
    "\n",
    "# make data\n",
    "z = cbook.get_sample_data(\"axes_grid/bivariate_normal.npy\")  # 15x15 array\n",
    "z2 = np.zeros((150, 150))\n",
    "ny, nx = z.shape\n",
    "z2[30:30+ny, 30:30+nx] = z\n",
    "extent = (-3, 4, -4, 3)\n",
    "\n",
    "ax.imshow(z2, extent=extent, origin=\"lower\")\n",
    "\n",
    "# inset Axes....\n",
    "x1, x2, y1, y2 = -1.5, -0.9, -2.5, -1.9  # subregion of the original image\n",
    "axins = ax.inset_axes(\n",
    "    [0.5, 0.5, 0.47, 0.47],\n",
    "    xlim=(x1, x2), ylim=(y1, y2), xticklabels=[], yticklabels=[])\n",
    "axins.imshow(z2, extent=extent, origin=\"lower\")\n",
    "\n",
    "ax.indicate_inset_zoom(axins, edgecolor=\"black\")\n",
    "ax.set_title('some plot')\n",
    "plt.show()"
   ]
  },
  {
   "cell_type": "markdown",
   "id": "08419f27",
   "metadata": {},
   "source": [
    "## Basic usage"
   ]
  },
  {
   "cell_type": "markdown",
   "id": "cf5492dc",
   "metadata": {},
   "source": [
    "### Basic usage 1: The Quantum repeaters"
   ]
  },
  {
   "cell_type": "markdown",
   "id": "02b01f55",
   "metadata": {},
   "source": [
    "First lets initialize the network this is done with the `RepeaterNetwork` class. It is parametrized by the number of nodes $n$, the system parameters $\\tau, p_e, p_s$ and some other stuff"
   ]
  },
  {
   "cell_type": "code",
   "execution_count": 77,
   "id": "17177a4b",
   "metadata": {},
   "outputs": [],
   "source": [
    "net = RepeaterNetwork(\n",
    "                    n=4,\n",
    "                    p_entangle = 1,\n",
    "                    p_swap = 1,\n",
    "                    tau = 1_000,\n",
    "                    kappa = 1,\n",
    "                    directed = False,\n",
    "                    geometry = 'chain',\n",
    "                    )"
   ]
  },
  {
   "cell_type": "markdown",
   "id": "6fdf0ca6",
   "metadata": {},
   "source": [
    "The state can be seen anytime with ```self.matrix``` (dictionary) or used gor GNNs with ```self.tensorState()``` (pyG.data). For the first case the state is returned in a dictionary of the form $\\texttt{self.matrix} = \\big\\{(i,j) : [\\text{adj}, \\text{ent}]\\big\\}$ where $i,j$ denote the vertices (repeaters) of the edge (links), adj denotes the adjecency (0,1) and ent the links."
   ]
  },
  {
   "cell_type": "code",
   "execution_count": 78,
   "id": "f89dad8b",
   "metadata": {},
   "outputs": [
    {
     "data": {
      "text/plain": [
       "{(0, 1): [1, 0.0],\n",
       " (1, 2): [1, 0.0],\n",
       " (0, 3): [0.0, 0.0],\n",
       " (2, 3): [1, 0.0],\n",
       " (0, 2): [0.0, 0.0],\n",
       " (1, 3): [0.0, 0.0]}"
      ]
     },
     "execution_count": 78,
     "metadata": {},
     "output_type": "execute_result"
    }
   ],
   "source": [
    "net.matrix"
   ]
  },
  {
   "cell_type": "code",
   "execution_count": 79,
   "id": "294d93f1",
   "metadata": {},
   "outputs": [
    {
     "data": {
      "text/plain": [
       "False"
      ]
     },
     "execution_count": 79,
     "metadata": {},
     "output_type": "execute_result"
    }
   ],
   "source": [
    "# internal variable controls end-to-end\n",
    "net.global_state"
   ]
  },
  {
   "cell_type": "markdown",
   "id": "937410a8",
   "metadata": {},
   "source": [
    "### Operation 1: Entanglement"
   ]
  },
  {
   "cell_type": "code",
   "execution_count": 80,
   "id": "8c09c5b5",
   "metadata": {},
   "outputs": [],
   "source": [
    "def look_for_entanglement(edge):\n",
    "    print(f'Entanglement at {edge}: {net.getLink(edge=(0,1), linkType = 1)}')"
   ]
  },
  {
   "cell_type": "code",
   "execution_count": 81,
   "id": "c7255ca4",
   "metadata": {},
   "outputs": [
    {
     "name": "stdout",
     "output_type": "stream",
     "text": [
      "Entanglement at (0, 1): 0.0\n",
      "Entanglement at (0, 1): 1\n"
     ]
    }
   ],
   "source": [
    "edge = (0,1)\n",
    "look_for_entanglement(edge=edge)\n",
    "net.entangle(edge = (0,1))\n",
    "look_for_entanglement(edge=edge)"
   ]
  },
  {
   "cell_type": "code",
   "execution_count": 82,
   "id": "ab6aba60",
   "metadata": {},
   "outputs": [
    {
     "data": {
      "text/plain": [
       "{(0, 1): [1, 0],\n",
       " (1, 2): [1, 0],\n",
       " (0, 3): [0.0, 0],\n",
       " (2, 3): [1, 0],\n",
       " (0, 2): [0.0, 0],\n",
       " (1, 3): [0.0, 0]}"
      ]
     },
     "execution_count": 82,
     "metadata": {},
     "output_type": "execute_result"
    }
   ],
   "source": [
    "#now lets reset\n",
    "net.resetState()\n",
    "net.matrix"
   ]
  },
  {
   "cell_type": "markdown",
   "id": "3b1d5995",
   "metadata": {},
   "source": [
    "### Operation 2: Swap"
   ]
  },
  {
   "cell_type": "code",
   "execution_count": 83,
   "id": "43858484",
   "metadata": {},
   "outputs": [
    {
     "name": "stdout",
     "output_type": "stream",
     "text": [
      " Initial entanglement :0\n",
      " Final entanglement :0.9995002499166875\n"
     ]
    }
   ],
   "source": [
    "#two entanglements and a swap give an extended link\n",
    "print(f' Initial entanglement :{net.matrix[(0,2)][1]}')\n",
    "net.entangle(edge=(0,1))\n",
    "net.entangle(edge=(1,2))\n",
    "net.swapAT(1)\n",
    "print(f' Final entanglement :{net.matrix[(0,2)][1]}')\n",
    "net.resetState()"
   ]
  },
  {
   "cell_type": "code",
   "execution_count": 85,
   "id": "bce618e4",
   "metadata": {},
   "outputs": [
    {
     "name": "stdout",
     "output_type": "stream",
     "text": [
      " Initial entanglement :0\n",
      " Final entanglement :0.0\n"
     ]
    }
   ],
   "source": [
    "# can also be done with an edge specific swap function\n",
    "print(f' Initial entanglement :{net.matrix[(0,2)][1]}')\n",
    "net.entangle(edge=(0,1))\n",
    "net.entangle(edge=(1,2))\n",
    "net.swap(edge1=(0,1), edge2=(1,2))\n",
    "print(f' Final entanglement :{net.matrix[(0,2)][1]}')\n",
    "net.resetState()"
   ]
  },
  {
   "cell_type": "code",
   "execution_count": null,
   "id": "ba33b1f2",
   "metadata": {},
   "outputs": [],
   "source": []
  }
 ],
 "metadata": {
  "kernelspec": {
   "display_name": ".venv",
   "language": "python",
   "name": "python3"
  },
  "language_info": {
   "codemirror_mode": {
    "name": "ipython",
    "version": 3
   },
   "file_extension": ".py",
   "mimetype": "text/x-python",
   "name": "python",
   "nbconvert_exporter": "python",
   "pygments_lexer": "ipython3",
   "version": "3.13.2"
  }
 },
 "nbformat": 4,
 "nbformat_minor": 5
}
