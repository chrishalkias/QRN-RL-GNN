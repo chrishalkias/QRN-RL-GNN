{
 "cells": [
  {
   "cell_type": "markdown",
   "id": "9b729555",
   "metadata": {},
   "source": [
    "# Sandbox for QRN-RL-GNN"
   ]
  },
  {
   "cell_type": "markdown",
   "id": "79009a53",
   "metadata": {},
   "source": [
    "This is an IPython notebook to be used for the following:\n",
    "\n",
    "1) As a sandbox to test snippets of code during development\n",
    "\n",
    "2) For demonstration purposes of functionalities"
   ]
  },
  {
   "cell_type": "markdown",
   "id": "5246cc87",
   "metadata": {},
   "source": [
    "### Imports"
   ]
  },
  {
   "cell_type": "code",
   "execution_count": null,
   "id": "a432bbfa",
   "metadata": {},
   "outputs": [],
   "source": [
    "from models import CNN\n",
    "import numpy as np\n",
    "import torch \n",
    "from torch_geometric.data import Data\n",
    "import torch.nn as nn\n",
    "import torch.nn.functional as F\n",
    "from torch_geometric.nn import GCNConv, GATConv\n",
    "from tqdm import tqdm\n",
    "import matplotlib.pyplot as plt\n",
    "import torch.optim as optim\n",
    "from models import GNN\n",
    "from repeaters import RepeaterNetwork\n",
    "from gnn_environment import Environment"
   ]
  },
  {
   "cell_type": "markdown",
   "id": "ffdb98ac",
   "metadata": {},
   "source": [
    "## Testing"
   ]
  },
  {
   "cell_type": "code",
   "execution_count": null,
   "id": "e6d3cae3",
   "metadata": {},
   "outputs": [],
   "source": []
  },
  {
   "cell_type": "markdown",
   "id": "08419f27",
   "metadata": {},
   "source": [
    "## Basic usage"
   ]
  },
  {
   "cell_type": "markdown",
   "id": "cf5492dc",
   "metadata": {},
   "source": [
    "### Basic usage 1: The Quantum repeaters"
   ]
  },
  {
   "cell_type": "markdown",
   "id": "02b01f55",
   "metadata": {},
   "source": [
    "First lets initialize the network"
   ]
  },
  {
   "cell_type": "code",
   "execution_count": 12,
   "id": "17177a4b",
   "metadata": {},
   "outputs": [],
   "source": [
    "net = RepeaterNetwork(\n",
    "                    n=4,\n",
    "                    directed = False,\n",
    "                    geometry = 'chain',\n",
    "                    kappa = 1,\n",
    "                    tau = 1_000,\n",
    "                    p_entangle = 1,\n",
    "                    p_swap = 1\n",
    "                    )"
   ]
  },
  {
   "cell_type": "markdown",
   "id": "6fdf0ca6",
   "metadata": {},
   "source": [
    "The state can be seen anytime with ```self.matrix``` (dictionary) or used with ```pyG``` with ```self.tensorState()``` (pyG.data)"
   ]
  },
  {
   "cell_type": "code",
   "execution_count": null,
   "id": "66817590",
   "metadata": {},
   "outputs": [
    {
     "data": {
      "text/plain": [
       "{(0, 1): [1, 0.0],\n",
       " (1, 2): [1, 0.0],\n",
       " (0, 3): [0.0, 0.0],\n",
       " (2, 3): [1, 0.0],\n",
       " (0, 2): [0.0, 0.0],\n",
       " (1, 3): [0.0, 0.0]}"
      ]
     },
     "execution_count": 13,
     "metadata": {},
     "output_type": "execute_result"
    }
   ],
   "source": [
    "net.matrix"
   ]
  },
  {
   "cell_type": "code",
   "execution_count": 3,
   "id": "b8a22ded",
   "metadata": {},
   "outputs": [],
   "source": [
    "model = GNN(node_dim        = 1, # always\n",
    "            embedding_dim   = 16,\n",
    "            num_layers      = 3,\n",
    "            num_heads       = 4,\n",
    "            hidden_dim      = 64, \n",
    "            unembedding_dim = 16, \n",
    "            output_dim      = 4, # always\n",
    "            ) "
   ]
  },
  {
   "cell_type": "code",
   "execution_count": 8,
   "id": "be982937",
   "metadata": {},
   "outputs": [
    {
     "data": {
      "text/plain": [
       "Data(x=[4, 1], edge_index=[2, 3], edge_attr=[6])"
      ]
     },
     "execution_count": 8,
     "metadata": {},
     "output_type": "execute_result"
    }
   ],
   "source": [
    "net = RepeaterNetwork()\n",
    "net.tensorState()"
   ]
  },
  {
   "cell_type": "code",
   "execution_count": 11,
   "id": "9a6884e8",
   "metadata": {},
   "outputs": [],
   "source": [
    "env = Environment(model)"
   ]
  },
  {
   "cell_type": "code",
   "execution_count": null,
   "id": "5b3458c7",
   "metadata": {},
   "outputs": [],
   "source": []
  }
 ],
 "metadata": {
  "kernelspec": {
   "display_name": ".venv",
   "language": "python",
   "name": "python3"
  },
  "language_info": {
   "codemirror_mode": {
    "name": "ipython",
    "version": 3
   },
   "file_extension": ".py",
   "mimetype": "text/x-python",
   "name": "python",
   "nbconvert_exporter": "python",
   "pygments_lexer": "ipython3",
   "version": "3.13.2"
  }
 },
 "nbformat": 4,
 "nbformat_minor": 5
}
